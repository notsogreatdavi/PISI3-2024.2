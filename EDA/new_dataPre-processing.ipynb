{
 "cells": [
  {
   "cell_type": "code",
   "execution_count": 1,
   "metadata": {},
   "outputs": [],
   "source": [
    "import pandas as pd \n",
    "import numpy as np \n",
    "import seaborn as sns\n",
    "import matplotlib.pyplot as plt\n",
    "import math\n",
    "from sklearn.preprocessing import OneHotEncoder"
   ]
  },
  {
   "cell_type": "markdown",
   "metadata": {},
   "source": [
    "# Leitura e Criação de Dataframe\n",
    "\n",
    "Aqui a gente recebe o dataset e tranforma ele em um dataframe"
   ]
  },
  {
   "cell_type": "code",
   "execution_count": 2,
   "metadata": {},
   "outputs": [],
   "source": [
    "df_unistudents = pd.read_csv('../data/StudentPerformanceFactors.csv', low_memory=False)\n",
    "pd.set_option('display.max_columns', None)"
   ]
  },
  {
   "cell_type": "markdown",
   "metadata": {},
   "source": [
    "## Pre-processamento dos dados"
   ]
  },
  {
   "cell_type": "markdown",
   "metadata": {},
   "source": [
    "Substituição dos valores nulos pela média e pela moda de suas respectivas colunas:"
   ]
  },
  {
   "cell_type": "code",
   "execution_count": null,
   "metadata": {},
   "outputs": [],
   "source": [
    "from sklearn.impute import SimpleImputer\n",
    "\n",
    "# Numericas\n",
    "num_imputer = SimpleImputer(strategy='mean')\n",
    "num_col = df_unistudents.select_dtypes(include=['float64', 'int64']).columns\n",
    "df_unistudents[num_col] = num_imputer.fit_transform(df_unistudents[num_col])\n",
    "df_unistudents[num_col] = df_unistudents[num_col].apply(np.round)\n",
    "\n",
    "# Categoricas\n",
    "cat_imputer = SimpleImputer(strategy='most_frequent')\n",
    "cat_col = df_unistudents.select_dtypes(include=['object']).columns\n",
    "df_unistudents[cat_col] = cat_imputer.fit_transform(df_unistudents[cat_col])"
   ]
  },
  {
   "cell_type": "markdown",
   "metadata": {},
   "source": [
    "Vamos criar uma nova coluna chamada ChangesChange usando a coluna \"Previous_Scores\" (notas anteriores) e a 'Exam_Score' (notas atuais), com a finalidade de utilizá-la como variável alvo no algoritmo de classificação que desenvolveremos a seguir (apageremos as colunas \"Previous_Scores\" e \"Exam_Score\" em seguida para não dar conflito no algoritmo)."
   ]
  },
  {
   "cell_type": "code",
   "execution_count": null,
   "metadata": {},
   "outputs": [],
   "source": [
    "def mudanca_de_nota(row):\n",
    "    if row['Exam_Score'] > row['Previous_Scores']:\n",
    "        return 'Increase'\n",
    "    elif row['Exam_Score'] < row['Previous_Scores']:\n",
    "        return 'Decrease'\n",
    "    else:\n",
    "        return 'No Change'\n",
    "\n",
    "df_unistudents['Change_Grades'] = df_unistudents.apply(mudanca_de_nota, axis=1)\n",
    "\n",
    "df_unistudents = df_unistudents.drop(['Previous_Scores', 'Exam_Score'], axis=1)"
   ]
  },
  {
   "cell_type": "markdown",
   "metadata": {},
   "source": [
    "Aplicaremos o \"One Hot Encoder\" para converter as variáveis categóricas de uma maneira que aumente o desempenho dos modelos de machine learning. Aqui, transformaremos cada coluna categórica em uma nova coluna binária para indicar a presença da categoria ou a ausência."
   ]
  },
  {
   "cell_type": "markdown",
   "metadata": {},
   "source": [
    "Aplicação do hot_encoder (com exceção da coluna Change_Grades):"
   ]
  },
  {
   "cell_type": "code",
   "execution_count": 28,
   "metadata": {},
   "outputs": [],
   "source": [
    "cat_col = df_unistudents.select_dtypes(include=['object']).columns\n",
    "cat_col = cat_col.drop('Change_Grades')\n",
    "\n",
    "one_hot_encoder = OneHotEncoder(sparse_output=False, drop='first')\n",
    "encoded_columns = one_hot_encoder.fit_transform(df_unistudents[cat_col])"
   ]
  },
  {
   "cell_type": "markdown",
   "metadata": {},
   "source": [
    "Criação de um DataFrame com as colunas codificadas:"
   ]
  },
  {
   "cell_type": "code",
   "execution_count": 29,
   "metadata": {},
   "outputs": [],
   "source": [
    "encoded_df = pd.DataFrame(encoded_columns, columns=one_hot_encoder.get_feature_names_out(cat_col))"
   ]
  },
  {
   "cell_type": "markdown",
   "metadata": {},
   "source": [
    "Concatenação do dataframe codificado com o original:"
   ]
  },
  {
   "cell_type": "code",
   "execution_count": 30,
   "metadata": {},
   "outputs": [],
   "source": [
    "df_unistudents = pd.concat([df_unistudents, encoded_df], axis=1)"
   ]
  },
  {
   "cell_type": "markdown",
   "metadata": {},
   "source": [
    "Remoção das colunas categóricas originais:"
   ]
  },
  {
   "cell_type": "code",
   "execution_count": 31,
   "metadata": {},
   "outputs": [],
   "source": [
    "df_unistudents.drop(columns=cat_col, inplace=True)"
   ]
  },
  {
   "cell_type": "code",
   "execution_count": null,
   "metadata": {},
   "outputs": [],
   "source": [
    "df_unistudents.head(35)"
   ]
  },
  {
   "cell_type": "markdown",
   "metadata": {},
   "source": [
    "Repetiremos a matriz de correlação para verificar as mudanças (sem a Change_Grades que é string):"
   ]
  },
  {
   "cell_type": "code",
   "execution_count": null,
   "metadata": {},
   "outputs": [],
   "source": [
    "cols = df_unistudents.columns\n",
    "cols = cols.drop('Change_Grades')\n",
    "\n",
    "correlation_matrix = df_unistudents[cols].corr()\n",
    "\n",
    "plt.figure(figsize=(50, 45))\n",
    "sns.heatmap(correlation_matrix, annot=True, cmap=\"coolwarm\", fmt=\".2f\", linewidths=0.5)\n",
    "plt.title(\"Matriz de Correlação - Variáveis Numéricas\")\n",
    "plt.show()"
   ]
  },
  {
   "cell_type": "markdown",
   "metadata": {},
   "source": [
    "Vamos transformar o tipo de arquivo para .parquet com o intuito de tornar o processo mais rápido"
   ]
  },
  {
   "cell_type": "code",
   "execution_count": 36,
   "metadata": {},
   "outputs": [],
   "source": [
    "df_unistudents.to_parquet(\"new_unistudents.parquet\", index=False)"
   ]
  }
 ],
 "metadata": {
  "kernelspec": {
   "display_name": "Python 3",
   "language": "python",
   "name": "python3"
  },
  "language_info": {
   "codemirror_mode": {
    "name": "ipython",
    "version": 3
   },
   "file_extension": ".py",
   "mimetype": "text/x-python",
   "name": "python",
   "nbconvert_exporter": "python",
   "pygments_lexer": "ipython3",
   "version": "3.12.8"
  }
 },
 "nbformat": 4,
 "nbformat_minor": 2
}
